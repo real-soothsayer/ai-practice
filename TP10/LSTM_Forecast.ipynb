{
  "nbformat": 4,
  "nbformat_minor": 0,
  "metadata": {
    "colab": {
      "name": "LSTM Forecast.ipynb",
      "provenance": [],
      "collapsed_sections": []
    },
    "kernelspec": {
      "name": "python3",
      "display_name": "Python 3"
    },
    "language_info": {
      "name": "python"
    }
  },
  "cells": [
    {
      "cell_type": "markdown",
      "source": [
        "#### LSTM for international airline passengers"
      ],
      "metadata": {
        "id": "ckKWAmByH6tz"
      }
    },
    {
      "cell_type": "code",
      "execution_count": null,
      "metadata": {
        "id": "IZDKYNBAHS6q"
      },
      "outputs": [],
      "source": [
        "import numpy\n",
        "import matplotlib.pyplot as plt\n",
        "from pandas import read_csv\n",
        "import math\n",
        "from keras.models import Sequential\n",
        "from keras.layers import Dense\n",
        "from keras.layers import LSTM\n",
        "from sklearn.preprocessing import MinMaxScaler\n",
        "from sklearn.metrics import mean_squared_error\n"
      ]
    },
    {
      "cell_type": "markdown",
      "source": [
        "#### Convert an array of values into a dataset matrix\n"
      ],
      "metadata": {
        "id": "RZMa9qU2H7Hk"
      }
    },
    {
      "cell_type": "code",
      "source": [
        "def create_dataset(dataset, look_back=1):\n",
        "\tdataX, dataY = [], []\n",
        "\tfor i in range(len(dataset)-look_back-1):\n",
        "\t\ta = dataset[i:(i+look_back), 0]\n",
        "\t\tdataX.append(a)\n",
        "\t\tdataY.append(dataset[i + look_back, 0])\n",
        "\treturn numpy.array(dataX), numpy.array(dataY)\n"
      ],
      "metadata": {
        "id": "2NwnEiNmHckX"
      },
      "execution_count": null,
      "outputs": []
    },
    {
      "cell_type": "markdown",
      "source": [
        "#### Fix random seed for reproducibility\n"
      ],
      "metadata": {
        "id": "gmQpaF9ZH76r"
      }
    },
    {
      "cell_type": "code",
      "source": [
        "numpy.random.seed(7)\n"
      ],
      "metadata": {
        "id": "Hi8wnnrFHciV"
      },
      "execution_count": null,
      "outputs": []
    },
    {
      "cell_type": "markdown",
      "source": [
        "Link to dataset : <br>\n",
        "https://raw.githubusercontent.com/jbrownlee/Datasets/master/airline-passengers.csv"
      ],
      "metadata": {
        "id": "dzjpn2cqJrBI"
      }
    },
    {
      "cell_type": "markdown",
      "source": [
        "#### Load the dataset\n"
      ],
      "metadata": {
        "id": "y_GD4AcxIBT6"
      }
    },
    {
      "cell_type": "code",
      "source": [
        "dataframe = read_csv('airline-passengers.csv', usecols=[1], engine='python')\n",
        "dataset = dataframe.values\n",
        "dataset = dataset.astype('float32')\n"
      ],
      "metadata": {
        "id": "wn9uGOWxHcf9"
      },
      "execution_count": null,
      "outputs": []
    },
    {
      "cell_type": "markdown",
      "source": [
        "#### Normalize the dataset"
      ],
      "metadata": {
        "id": "mbGoLX5hIBxG"
      }
    },
    {
      "cell_type": "code",
      "source": [
        "\n",
        "scaler = MinMaxScaler(feature_range=(0, 1))\n",
        "dataset = scaler.fit_transform(dataset)\n"
      ],
      "metadata": {
        "id": "oVVG7jlXHcds"
      },
      "execution_count": null,
      "outputs": []
    },
    {
      "cell_type": "markdown",
      "source": [
        "#### Split into train and test sets\n"
      ],
      "metadata": {
        "id": "C9HkzmEMICna"
      }
    },
    {
      "cell_type": "code",
      "source": [
        "train_size = int(len(dataset) * 0.67)\n",
        "test_size = len(dataset) - train_size\n",
        "train, test = dataset[0:train_size,:], dataset[train_size:len(dataset),:]\n"
      ],
      "metadata": {
        "id": "NUohhyqFHcbw"
      },
      "execution_count": null,
      "outputs": []
    },
    {
      "cell_type": "markdown",
      "source": [
        "#### Reshape into X=t and Y=t+1"
      ],
      "metadata": {
        "id": "gORxHVCEIC-S"
      }
    },
    {
      "cell_type": "code",
      "source": [
        "\n",
        "look_back = 1\n",
        "trainX, trainY = create_dataset(train, look_back)\n",
        "testX, testY = create_dataset(test, look_back)\n"
      ],
      "metadata": {
        "id": "UYr2L0PTHcZU"
      },
      "execution_count": null,
      "outputs": []
    },
    {
      "cell_type": "markdown",
      "source": [
        "#### Reshape input to be [samples, time steps, features]\n"
      ],
      "metadata": {
        "id": "DSekcxplIDeR"
      }
    },
    {
      "cell_type": "code",
      "source": [
        "trainX = numpy.reshape(trainX, (trainX.shape[0], 1, trainX.shape[1]))\n",
        "testX = numpy.reshape(testX, (testX.shape[0], 1, testX.shape[1]))\n"
      ],
      "metadata": {
        "id": "cm2nsuJDHcXV"
      },
      "execution_count": null,
      "outputs": []
    },
    {
      "cell_type": "markdown",
      "source": [
        "#### Create and fit the LSTM network\n"
      ],
      "metadata": {
        "id": "N-thOrRlID7c"
      }
    },
    {
      "cell_type": "code",
      "source": [
        "model = Sequential()\n",
        "model.add(LSTM(4, input_shape=(1, look_back)))\n",
        "model.add(Dense(1))\n",
        "model.compile(loss='mean_squared_error', optimizer='adam')\n",
        "model.fit(trainX, trainY, epochs=100, batch_size=1, verbose=2)\n"
      ],
      "metadata": {
        "id": "zk_XNSWtHcUW"
      },
      "execution_count": null,
      "outputs": []
    },
    {
      "cell_type": "markdown",
      "source": [
        "#### Make predictions\n"
      ],
      "metadata": {
        "id": "lhgF0QAAIE2w"
      }
    },
    {
      "cell_type": "code",
      "source": [
        "trainPredict = model.predict(trainX)\n",
        "testPredict = model.predict(testX)\n"
      ],
      "metadata": {
        "id": "pq13LgcIHcNU"
      },
      "execution_count": null,
      "outputs": []
    },
    {
      "cell_type": "markdown",
      "source": [
        "#### Invert predictions\n"
      ],
      "metadata": {
        "id": "4JXXNKTTIFj2"
      }
    },
    {
      "cell_type": "code",
      "source": [
        "trainPredict = scaler.inverse_transform(trainPredict)\n",
        "trainY = scaler.inverse_transform([trainY])\n",
        "testPredict = scaler.inverse_transform(testPredict)\n",
        "testY = scaler.inverse_transform([testY])\n"
      ],
      "metadata": {
        "id": "BDELpN9mHcBB"
      },
      "execution_count": null,
      "outputs": []
    },
    {
      "cell_type": "markdown",
      "source": [
        "#### calculate root mean squared error\n"
      ],
      "metadata": {
        "id": "seF_jMbbIF_f"
      }
    },
    {
      "cell_type": "code",
      "source": [
        "trainScore = math.sqrt(mean_squared_error(trainY[0], trainPredict[:,0]))\n",
        "print('Train Score: %.2f RMSE' % (trainScore))\n",
        "testScore = math.sqrt(mean_squared_error(testY[0], testPredict[:,0]))\n",
        "print('Test Score: %.2f RMSE' % (testScore))\n"
      ],
      "metadata": {
        "id": "mqckfeH_HyMJ"
      },
      "execution_count": null,
      "outputs": []
    },
    {
      "cell_type": "markdown",
      "source": [
        "#### Shift train predictions for plotting\n"
      ],
      "metadata": {
        "id": "x-tgLtTqIGfn"
      }
    },
    {
      "cell_type": "code",
      "source": [
        "trainPredictPlot = numpy.empty_like(dataset)\n",
        "trainPredictPlot[:, :] = numpy.nan\n",
        "trainPredictPlot[look_back:len(trainPredict)+look_back, :] = trainPredict\n"
      ],
      "metadata": {
        "id": "JVI-ayucHyJ-"
      },
      "execution_count": null,
      "outputs": []
    },
    {
      "cell_type": "markdown",
      "source": [
        "#### Shift test predictions for plotting\n"
      ],
      "metadata": {
        "id": "QNyZHjYXIHI1"
      }
    },
    {
      "cell_type": "code",
      "source": [
        "testPredictPlot = numpy.empty_like(dataset)\n",
        "testPredictPlot[:, :] = numpy.nan\n",
        "testPredictPlot[len(trainPredict)+(look_back*2)+1:len(dataset)-1, :] = testPredict\n"
      ],
      "metadata": {
        "id": "_q4-1IKhHyHg"
      },
      "execution_count": null,
      "outputs": []
    },
    {
      "cell_type": "markdown",
      "source": [
        "#### Plot baseline and predictions\n"
      ],
      "metadata": {
        "id": "bBa28cohIHle"
      }
    },
    {
      "cell_type": "code",
      "source": [
        "plt.plot(scaler.inverse_transform(dataset))\n",
        "plt.plot(trainPredictPlot)\n",
        "plt.plot(testPredictPlot)\n",
        "plt.show()"
      ],
      "metadata": {
        "id": "qi-F3p8RHyE4"
      },
      "execution_count": null,
      "outputs": []
    },
    {
      "cell_type": "code",
      "source": [
        ""
      ],
      "metadata": {
        "id": "IEV5E8mfHx9s"
      },
      "execution_count": null,
      "outputs": []
    }
  ]
}