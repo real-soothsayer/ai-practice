{
 "cells": [
  {
   "cell_type": "markdown",
   "metadata": {},
   "source": [
    "## <center> KNN Classifier : K-nearest-neighbors </center>\n",
    "It is one of the simplest algorithm to start with.\n",
    "The classifier will look for its closest K-points. K defines the number of neighboring points used to make a decision. By default it uses 5 K points to make the decision.\n",
    "\n",
    "It is simple but does not do so well with larger data sets thats have hundred of features, it becomes very slow.\n",
    "\n",
    "https://scikit-learn.org/stable/modules/generated/sklearn.neighbors.KNeighborsClassifier.html"
   ]
  },
  {
   "cell_type": "markdown",
   "metadata": {},
   "source": [
    "### Install scikit learn module\n",
    "```\n",
    "sudo pip3 install -U scikit-learn\n",
    "```\n",
    "\n",
    "### Install matplotlib module\n",
    "```\n",
    "sudo pip3 install -U matplotlib\n",
    "```"
   ]
  },
  {
   "cell_type": "code",
   "execution_count": 5,
   "metadata": {},
   "outputs": [],
   "source": [
    "from sklearn.datasets import load_breast_cancer\n",
    "from sklearn.neighbors import KNeighborsClassifier\n",
    "\n",
    "import matplotlib.pyplot as plt\n",
    "%matplotlib inline"
   ]
  },
  {
   "cell_type": "code",
   "execution_count": 2,
   "metadata": {},
   "outputs": [],
   "source": [
    "cancer = load_breast_cancer()"
   ]
  },
  {
   "cell_type": "markdown",
   "metadata": {},
   "source": [
    "### Install mg-learn module\n",
    "```\n",
    "sudo pip3 install mglearn\n",
    "```"
   ]
  },
  {
   "cell_type": "code",
   "execution_count": 6,
   "metadata": {},
   "outputs": [
    {
     "name": "stdout",
     "output_type": "stream",
     "text": [
      "/usr/bin/python3\n"
     ]
    }
   ],
   "source": [
    "import sys\n",
    "print(sys.executable)"
   ]
  },
  {
   "cell_type": "markdown",
   "metadata": {},
   "source": [
    "#### Install a pip package in the current Jupyter kernel"
   ]
  },
  {
   "cell_type": "code",
   "execution_count": null,
   "metadata": {},
   "outputs": [],
   "source": [
    "import sys\n",
    "!{sys.executable} -m pip install mglearn"
   ]
  },
  {
   "cell_type": "markdown",
   "metadata": {},
   "source": [
    "- we need the mglearn package :  \n",
    "  Helper functions for the book \"Introduction to Machine Learning with Python\""
   ]
  },
  {
   "cell_type": "markdown",
   "metadata": {},
   "source": [
    "#### Install a conda package in the current Jupyter kernel"
   ]
  },
  {
   "cell_type": "markdown",
   "metadata": {},
   "source": [
    "```\n",
    "import sys\n",
    "!conda install --yes  some_conda_package\n",
    "```"
   ]
  },
  {
   "cell_type": "markdown",
   "metadata": {},
   "source": [
    "#### Illustrate KNN classifier with mg-learn module :\n",
    "We use 3 neighbors just for the illustration."
   ]
  },
  {
   "cell_type": "code",
   "execution_count": 16,
   "metadata": {},
   "outputs": [
    {
     "data": {
      "image/png": "[encoded data removed]",
      "text/plain": [
       "<Figure size 432x288 with 1 Axes>"
      ]
     },
     "metadata": {
      "needs_background": "light"
     },
     "output_type": "display_data"
    }
   ],
   "source": [
    "import warnings\n",
    "warnings.filterwarnings('ignore')\n",
    "\n",
    "import mglearn\n",
    "from sklearn.datasets import make_blobs\n",
    "\n",
    "mglearn.plots.plot_knn_classification(n_neighbors=3)"
   ]
  },
  {
   "cell_type": "markdown",
   "metadata": {},
   "source": [
    "Let's assume :\n",
    "   - The blue circles represent malignant tumors \n",
    "   - The orange triangles the benign ones\n",
    "    \n",
    "   (as learned by our KNN classifier.)  \n",
    "   \n",
    "   - Stars are new sample.  \n",
    "    \n",
    "When we ask KNN to make a prediction or a decision or a classification of this new data point   \n",
    "it will decide on the average of these three neighbors.  \n"
   ]
  },
  {
   "cell_type": "code",
   "execution_count": null,
   "metadata": {},
   "outputs": [],
   "source": [
    "print(cancer.target)"
   ]
  },
  {
   "cell_type": "markdown",
   "metadata": {},
   "source": [
    "#### Construct and train the KNN model :"
   ]
  },
  {
   "cell_type": "markdown",
   "metadata": {},
   "source": [
    "### Split the dataset\n",
    "\n",
    "1. stratify :   \n",
    "data is split in a stratified fashion, using cancer.target as the class labels.  \n",
    "For example, if it is a binary categorical variable with values 0 and 1 and there are 25% of zeros and 75% of ones,   \n",
    "stratify=target will make sure that your random split has 25% of 0's and 75% of 1's.  \n",
    "\n",
    "2. random_state :   \n",
    "controls the shuffling applied to the data before applying the split.\n",
    "\n",
    "* https://scikit-learn.org/stable/modules/generated/sklearn.model_selection.train_test_split.html\n",
    "\n"
   ]
  },
  {
   "cell_type": "markdown",
   "metadata": {},
   "source": [
    "weights{‘uniform’, ‘distance’, ‘callable’}, default=’uniform’"
   ]
  },
  {
   "cell_type": "code",
   "execution_count": 3,
   "metadata": {},
   "outputs": [],
   "source": [
    "from sklearn.model_selection import train_test_split\n",
    "\n",
    "# Fill here"
   ]
  },
  {
   "cell_type": "markdown",
   "metadata": {},
   "source": [
    "knn.score :  \n",
    "Mean accuracy of self.predict(X) /wrt y."
   ]
  },
  {
   "cell_type": "markdown",
   "metadata": {},
   "source": [
    "#### Let's evaluate the algorithm"
   ]
  },
  {
   "cell_type": "code",
   "execution_count": 3,
   "metadata": {},
   "outputs": [],
   "source": [
    "# Fill here"
   ]
  },
  {
   "cell_type": "markdown",
   "metadata": {},
   "source": [
    "Accuracy of KNN n-5, on the test set: 0.930  \n",
    "This means that KNN algorithm is able to correctly classify 93% of the tests data.  \n",
    "This is a good score, but can we work with the parameters to make it even better ?  "
   ]
  },
  {
   "cell_type": "markdown",
   "metadata": {},
   "source": [
    "Let's focus on neighbors number.\n",
    "\n",
    "Resplit the dataset :"
   ]
  },
  {
   "cell_type": "code",
   "execution_count": null,
   "metadata": {
    "scrolled": true
   },
   "outputs": [],
   "source": [
    "# Fill here"
   ]
  },
  {
   "cell_type": "markdown",
   "metadata": {},
   "source": [
    "Test the model with 1 to 30 neighbors and compare :"
   ]
  },
  {
   "cell_type": "code",
   "execution_count": 6,
   "metadata": {},
   "outputs": [],
   "source": [
    "training_accuracy = []\n",
    "test_accuracy = []\n",
    "\n",
    "neighbors_settings = range(1, 30)\n",
    "\n",
    "for n_neighbors in neighbors_settings:\n",
    "    # Fill here"
   ]
  },
  {
   "cell_type": "code",
   "execution_count": null,
   "metadata": {},
   "outputs": [],
   "source": [
    "# Display the results\n",
    "plt.plot(neighbors_settings, training_accuracy, label='Accuracy on the training set')\n",
    "plt.plot(neighbors_settings, test_accuracy, label='Accuracy on the test set')\n",
    "plt.ylabel('Accuracy')\n",
    "plt.xlabel('Number of neighbors')\n",
    "plt.legend()"
   ]
  },
  {
   "cell_type": "markdown",
   "metadata": {},
   "source": [
    "### The algorithm seems to work better with 6 neighbors"
   ]
  },
  {
   "cell_type": "markdown",
   "metadata": {},
   "source": [
    "- By default, we took all the features from the dataset\n",
    "- Which features are the most significant ?"
   ]
  },
  {
   "cell_type": "code",
   "execution_count": null,
   "metadata": {},
   "outputs": [],
   "source": [
    "import numpy as np\n",
    "import pandas as pd\n",
    "\n",
    "from sklearn.model_selection import cross_val_score\n",
    "\n",
    "clf = KNeighborsClassifier()\n",
    "n_feats = cancer.data.shape[1]\n",
    "y =  cancer.target\n",
    "\n",
    "sign_dict = {}\n",
    "\n",
    "for i in range(n_feats):\n",
    "    X = cancer.data[:, i].reshape(-1, 1)\n",
    "    scores = cross_val_score(clf, X, y, cv=3)\n",
    "    sign_dict[i]=scores.mean()\n",
    "    sign_dict = {k: v for k, v in sorted(sign_dict.items(), key=lambda item: item[1],reverse=True)}\n",
    "\n",
    "nd = []\n",
    "\n",
    "for v in sign_dict:\n",
    "    nd.append ([cancer.feature_names[v], sign_dict[v]])\n",
    "    \n",
    "pdf = pd.DataFrame(data=nd, columns=['Feature','Accuracy'])\n",
    "pdf"
   ]
  },
  {
   "cell_type": "code",
   "execution_count": null,
   "metadata": {},
   "outputs": [],
   "source": [
    "import matplotlib.pyplot as plt\n",
    "import matplotlib as matplotlib\n",
    "from matplotlib.pyplot import figure\n",
    "    \n",
    "pdf = pdf.sort_values(by=['Accuracy'])\n",
    "\n",
    "pdf.plot(kind='barh',x='Feature',y='Accuracy',orientation='horizontal')\n",
    "fig = matplotlib.pyplot.gcf()\n",
    "fig.set_size_inches(5, 10.5)\n",
    "plt.show()"
   ]
  },
  {
   "cell_type": "markdown",
   "metadata": {},
   "source": [
    "#### A way to improve the accuracy of the model :\n",
    "We can imporove the model by selecting the features that are more relevant and to eliminate the ones that are less important.\n",
    "For each change of the feature list, train the model and see how the score evoluate."
   ]
  }
 ],
 "metadata": {
  "kernelspec": {
   "display_name": "Python 3",
   "language": "python",
   "name": "python3"
  },
  "language_info": {
   "codemirror_mode": {
    "name": "ipython",
    "version": 3
   },
   "file_extension": ".py",
   "mimetype": "text/x-python",
   "name": "python",
   "nbconvert_exporter": "python",
   "pygments_lexer": "ipython3",
   "version": "3.6.8"
  }
 },
 "nbformat": 4,
 "nbformat_minor": 4
}
